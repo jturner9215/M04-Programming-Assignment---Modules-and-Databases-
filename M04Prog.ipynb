{
 "cells": [
  {
   "cell_type": "code",
   "execution_count": 1,
   "id": "82978552",
   "metadata": {},
   "outputs": [
    {
     "name": "stdout",
     "output_type": "stream",
     "text": [
      "[('Lord of the Rings', 'JRR Tolkien', 1954), ('Watchmen', 'Allen Moore', 1986)]\n"
     ]
    },
    {
     "data": {
      "text/plain": [
       "<sqlite3.Cursor at 0x2412a8f21c0>"
      ]
     },
     "execution_count": 1,
     "metadata": {},
     "output_type": "execute_result"
    }
   ],
   "source": [
    "import sqlite3 as sq\n",
    "\n",
    "conn = sq.connect('books.db')\n",
    "curs = conn.cursor()\n",
    "\n",
    "#curs.execute('''CREATE TABLE books (title TEXT, author TEXT, year INTEGER)''')\n",
    "\n",
    "curs.execute('INSERT INTO books VALUES(\"Lord of the Rings\", \"JRR Tolkien\", 1954)')\n",
    "\n",
    "curs.execute('INSERT INTO books VALUES(\"Watchmen\", \"Allen Moore\", 1986)')\n",
    "\n",
    "\n",
    "curs.execute('SELECT * FROM books')\n",
    "rows = curs.fetchall()\n",
    "print(rows)\n",
    "\n",
    "\n",
    "curs.execute('SELECT * FROM books ORDER BY title ASC')"
   ]
  },
  {
   "cell_type": "code",
   "execution_count": null,
   "id": "cf45cfd3",
   "metadata": {},
   "outputs": [],
   "source": [
    "def hours():\n",
    "    print('Open 9-5 daily')"
   ]
  },
  {
   "cell_type": "code",
   "execution_count": null,
   "id": "1af2aa07",
   "metadata": {},
   "outputs": [],
   "source": [
    "import zoo"
   ]
  },
  {
   "cell_type": "code",
   "execution_count": null,
   "id": "ea9de62f",
   "metadata": {},
   "outputs": [],
   "source": [
    "zoo.hours()"
   ]
  },
  {
   "cell_type": "code",
   "execution_count": 2,
   "id": "185e5184",
   "metadata": {},
   "outputs": [
    {
     "name": "stdout",
     "output_type": "stream",
     "text": [
      "Open 9-5 daily\n"
     ]
    }
   ],
   "source": [
    "import zoo as menagerie\n",
    "menagerie.hours()"
   ]
  },
  {
   "cell_type": "code",
   "execution_count": null,
   "id": "75db2507",
   "metadata": {},
   "outputs": [],
   "source": []
  }
 ],
 "metadata": {
  "kernelspec": {
   "display_name": "Python 3 (ipykernel)",
   "language": "python",
   "name": "python3"
  },
  "language_info": {
   "codemirror_mode": {
    "name": "ipython",
    "version": 3
   },
   "file_extension": ".py",
   "mimetype": "text/x-python",
   "name": "python",
   "nbconvert_exporter": "python",
   "pygments_lexer": "ipython3",
   "version": "3.10.9"
  }
 },
 "nbformat": 4,
 "nbformat_minor": 5
}
